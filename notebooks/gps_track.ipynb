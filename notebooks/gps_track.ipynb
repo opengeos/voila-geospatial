{
 "cells": [
  {
   "cell_type": "code",
   "execution_count": null,
   "metadata": {},
   "outputs": [],
   "source": [
    "import leafmap.maplibregl as leafmap"
   ]
  },
  {
   "cell_type": "code",
   "execution_count": null,
   "metadata": {},
   "outputs": [],
   "source": [
    "m = leafmap.Map(style=\"liberty\", height=\"610px\")\n",
    "m.add_basemap(\"Satellite\")\n",
    "m.add_basemap(\"OpenStreetMap.Mapnik\", visible=False)\n",
    "m.add_overture_buildings(visible=False)\n",
    "m"
   ]
  }
 ],
 "metadata": {
  "language_info": {
   "name": "python"
  }
 },
 "nbformat": 4,
 "nbformat_minor": 2
}
